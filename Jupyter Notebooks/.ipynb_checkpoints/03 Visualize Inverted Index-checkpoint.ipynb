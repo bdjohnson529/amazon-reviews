{
 "cells": [
  {
   "cell_type": "code",
   "execution_count": null,
   "metadata": {},
   "outputs": [],
   "source": [
    "import pandas as pd\n",
    "from datetime import datetime"
   ]
  },
  {
   "cell_type": "code",
   "execution_count": null,
   "metadata": {},
   "outputs": [],
   "source": [
    "# input datasets\n",
    "df = pd.read_csv('../Data/amazon_reviews_sample/term_summary_spacy.csv', sep=\"|\")\n",
    "\n",
    "text_df = pd.read_csv('../Data/amazon_reviews_sample/amazon_reviews_sample.csv',sep='\\t', encoding='utf-8')\n",
    "text_df = text_df.rename(columns = {'Unnamed: 0': 'index'})"
   ]
  },
  {
   "cell_type": "code",
   "execution_count": null,
   "metadata": {},
   "outputs": [],
   "source": [
    "indices = df.loc[invertedindex_df['term'] == 'system']['inverted_index']\n",
    "mylist = indices.values[0].split(',')\n",
    "mylist = [x.replace('[', '') for x in mylist]\n",
    "mylist = [x.replace(']', '') for x in mylist]\n",
    "mylist = [x.strip() for x in mylist]\n",
    "mylist = [int(x) for x in mylist]\n",
    "\n",
    "selected_df = text_df.loc[text_df['index'].isin(mylist)]\n",
    "selected_df['review_body']"
   ]
  }
 ],
 "metadata": {
  "kernelspec": {
   "display_name": "Python 3",
   "language": "python",
   "name": "python3"
  },
  "language_info": {
   "codemirror_mode": {
    "name": "ipython",
    "version": 3
   },
   "file_extension": ".py",
   "mimetype": "text/x-python",
   "name": "python",
   "nbconvert_exporter": "python",
   "pygments_lexer": "ipython3",
   "version": "3.7.6"
  }
 },
 "nbformat": 4,
 "nbformat_minor": 4
}
